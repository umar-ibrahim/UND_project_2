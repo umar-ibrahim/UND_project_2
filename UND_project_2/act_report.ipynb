{
 "cells": [
  {
   "cell_type": "markdown",
   "metadata": {},
   "source": [
    "# Project Insights and visualization(Report: act_report)\n",
    "Dogs are certainly one of the cutest and hillarious animals and Udacity has provided us with a Twitter account @dog_rates also known as WeRateDogs.This report is based on some wrangled dataset that was merged to form one data set called archive_master.csv and this is about man's best friend!"
   ]
  },
  {
   "cell_type": "markdown",
   "metadata": {},
   "source": [
    "<img src=\"dog-rates-social.jpg\">"
   ]
  },
  {
   "cell_type": "markdown",
   "metadata": {},
   "source": [
    "## Insights\n",
    "We found very intersting insights about WeRateDogs and can you believe the **Golden retriever** is the most rated dog type?. Well, then comes a **Labrador retriever**, **pembroke**, **chichuachua** e.t.c. Interestingly, an average dog rating is about 12/10 with the  Labrador_retriever in a **doggo** stage rated **13** and had the highest retweet of **79515**. That's alot of retweet i must say. A **lakeland_terrier** in a **puppo** stage with rating of 13, had the highest favorite count of **132810** and retweet of **48265** . It also seems most rated dogs were in the **Pupper** stage (Does that mean they are cutest at the stage? well, maybe). A high significant number of these ratings were from iphone users as evidenced from our beautiful piechart. So, why don't you show us your dog so it can get some nice rating too?"
   ]
  },
  {
   "cell_type": "markdown",
   "metadata": {},
   "source": [
    "## Visualization"
   ]
  },
  {
   "cell_type": "markdown",
   "metadata": {},
   "source": [
    "This beautifully colored bar graph shows the golden retiriever to be the most rated dog breed followed by labrador retiriever, pembroke and the list goes on. The breeds like irish wolfhound, Japanese spaniel, silky terrier and more seem to have same rating and are below the graph."
   ]
  },
  {
   "cell_type": "markdown",
   "metadata": {},
   "source": [
    "<img src=\"dog_breed.png\">"
   ]
  },
  {
   "cell_type": "markdown",
   "metadata": {},
   "source": [
    "The bar graph below shows dog stages. most rated dogs were in the Pupper stage(Blue Bar). Doggo stage comes next with Puppo following."
   ]
  },
  {
   "cell_type": "markdown",
   "metadata": {},
   "source": [
    "<img src=\"dog_stage2.png\">"
   ]
  },
  {
   "cell_type": "markdown",
   "metadata": {},
   "source": [
    "The scatter plot below shows **retweets** against **favorite** count and it shows a linear relationship between the two variables."
   ]
  },
  {
   "cell_type": "markdown",
   "metadata": {},
   "source": [
    "<img src=\"scatter.png\">"
   ]
  },
  {
   "cell_type": "markdown",
   "metadata": {},
   "source": [
    "The pie chart below shoes **twitter for iphone** to be the most common tweet source on the dog ratings."
   ]
  },
  {
   "cell_type": "markdown",
   "metadata": {},
   "source": [
    "<img src=\"tweet_s2.png\">"
   ]
  },
  {
   "cell_type": "markdown",
   "metadata": {},
   "source": [
    "#### The histogram below shows favorite count and retweet count."
   ]
  },
  {
   "cell_type": "markdown",
   "metadata": {},
   "source": [
    "<img src=\"histogram_fav_Retweet.png\">"
   ]
  },
  {
   "cell_type": "markdown",
   "metadata": {},
   "source": [
    "#### I hope you did enjoy reading through our Insights and visualizations. Happy dog rating!"
   ]
  },
  {
   "cell_type": "code",
   "execution_count": null,
   "metadata": {},
   "outputs": [],
   "source": []
  }
 ],
 "metadata": {
  "kernelspec": {
   "display_name": "Python 3",
   "language": "python",
   "name": "python3"
  },
  "language_info": {
   "codemirror_mode": {
    "name": "ipython",
    "version": 3
   },
   "file_extension": ".py",
   "mimetype": "text/x-python",
   "name": "python",
   "nbconvert_exporter": "python",
   "pygments_lexer": "ipython3",
   "version": "3.6.3"
  }
 },
 "nbformat": 4,
 "nbformat_minor": 2
}
